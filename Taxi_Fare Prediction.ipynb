{
 "cells": [
  {
   "cell_type": "code",
   "execution_count": 1,
   "id": "3d2d9207",
   "metadata": {},
   "outputs": [],
   "source": [
    "import pandas as pd\n",
    "import numpy as np"
   ]
  },
  {
   "cell_type": "code",
   "execution_count": 2,
   "id": "c0f3b5f3",
   "metadata": {},
   "outputs": [],
   "source": [
    "df = pd.read_excel('C:\\\\Users\\\\ramva\\\\OneDrive\\\\Desktop\\\\Fare_ pred\\\\Train_fare.xlsx', sheet_name='Sheet1')"
   ]
  },
  {
   "cell_type": "code",
   "execution_count": 3,
   "id": "6f0461ca",
   "metadata": {},
   "outputs": [],
   "source": [
    "#taking mean of distances to clean data\n",
    "df['mean_distance'] = df['distance_traveled'].mean()"
   ]
  },
  {
   "cell_type": "code",
   "execution_count": 4,
   "id": "5c3665b8",
   "metadata": {},
   "outputs": [],
   "source": [
    "#preparing matrices\n",
    "X = df[['trip_duration', 'mean_distance', 'num_of_passengers', 'surge_applied']].values\n",
    "y = df['fare'].values"
   ]
  },
  {
   "cell_type": "code",
   "execution_count": 5,
   "id": "348b3bb5",
   "metadata": {},
   "outputs": [],
   "source": [
    "#Add a column with 1's in Matrix X for intercept term\n",
    "X = np.column_stack((np.ones(len(X)), X))"
   ]
  },
  {
   "cell_type": "code",
   "execution_count": 6,
   "id": "93f6a955",
   "metadata": {},
   "outputs": [],
   "source": [
    "#Calculating coefficients\n",
    "coeff = np.linalg.inv(X.T.dot(X)).dot(X.T).dot(y)"
   ]
  },
  {
   "cell_type": "code",
   "execution_count": 7,
   "id": "ccf1dd7f",
   "metadata": {},
   "outputs": [
    {
     "name": "stdout",
     "output_type": "stream",
     "text": [
      "Intercept: 130.84576999651608\n",
      "Coefficients: [ 2.61859695e-03 -6.91512883e+00  1.15289392e+00  2.71011208e+01]\n"
     ]
    }
   ],
   "source": [
    "print(\"Intercept:\", coeff[0])\n",
    "print(\"Coefficients:\", coeff[1:])"
   ]
  },
  {
   "cell_type": "code",
   "execution_count": 8,
   "id": "42afa4bf",
   "metadata": {},
   "outputs": [],
   "source": [
    "y_pred = X.dot(coeff)"
   ]
  },
  {
   "cell_type": "code",
   "execution_count": 9,
   "id": "f7d9cedc",
   "metadata": {},
   "outputs": [],
   "source": [
    "#Evaluation Metric 1 - Mean Squared error\n",
    "mse = np.mean((y - y_pred) ** 2)"
   ]
  },
  {
   "cell_type": "code",
   "execution_count": 10,
   "id": "84e69dca",
   "metadata": {},
   "outputs": [],
   "source": [
    "#Evaluation Metric 2 - Root Mean Squared error\n",
    "rmse = np.sqrt(mse)"
   ]
  },
  {
   "cell_type": "code",
   "execution_count": 11,
   "id": "1bb394bc",
   "metadata": {},
   "outputs": [],
   "source": [
    "#Evaluation Metric 3 - R2 score\n",
    "ssr = np.sum((y - y_pred) ** 2)\n",
    "sst = np.sum((y - np.mean(y)) ** 2)\n",
    "r2 = ssr / sst"
   ]
  },
  {
   "cell_type": "code",
   "execution_count": 12,
   "id": "a1c021f9",
   "metadata": {},
   "outputs": [
    {
     "name": "stdout",
     "output_type": "stream",
     "text": [
      "Mean Squared Error (MSE): 7071.524547851628\n",
      "Root Mean Squared Error (RMSE): 84.09235724994055\n",
      "R-squared (R2) Score: 0.9650285770563567\n"
     ]
    }
   ],
   "source": [
    "print(\"Mean Squared Error (MSE):\", mse)\n",
    "print(\"Root Mean Squared Error (RMSE):\", rmse)\n",
    "print(\"R-squared (R2) Score:\", r2)"
   ]
  },
  {
   "cell_type": "code",
   "execution_count": 13,
   "id": "52d99744",
   "metadata": {},
   "outputs": [],
   "source": [
    "#Read test data file\n",
    "dftest = pd.read_excel(\"C:\\\\Users\\\\ramva\\\\OneDrive\\\\Desktop\\\\Fare_ pred\\\\test_fare.xlsx\", sheet_name='Sheet1')"
   ]
  },
  {
   "cell_type": "code",
   "execution_count": 15,
   "id": "ed23ccad",
   "metadata": {},
   "outputs": [],
   "source": [
    "X_test = dftest[['trip_duration', 'distance_traveled', 'num_of_passengers', 'surge_applied']].values"
   ]
  },
  {
   "cell_type": "code",
   "execution_count": 16,
   "id": "3b475125",
   "metadata": {},
   "outputs": [],
   "source": [
    "X_test = np.column_stack((np.ones(len(X_test)), X_test))"
   ]
  },
  {
   "cell_type": "code",
   "execution_count": 17,
   "id": "e7f74d0b",
   "metadata": {},
   "outputs": [],
   "source": [
    "ytest_pred = X_test.dot(coeff)"
   ]
  },
  {
   "cell_type": "code",
   "execution_count": 18,
   "id": "e3b71aca",
   "metadata": {},
   "outputs": [],
   "source": [
    "dftest['fare'] = ytest_pred\n",
    "dftest.to_excel('C:\\\\Users\\\\ramva\\\\OneDrive\\\\Desktop\\\\Fare_ pred\\\\test_fare.xlsx', index=False)"
   ]
  },
  {
   "cell_type": "code",
   "execution_count": null,
   "id": "995644e7",
   "metadata": {},
   "outputs": [],
   "source": [
    "#Thus predicted data is successfully uploaded into excel file"
   ]
  },
  {
   "cell_type": "code",
   "execution_count": null,
   "id": "84fe58ee",
   "metadata": {},
   "outputs": [],
   "source": []
  }
 ],
 "metadata": {
  "kernelspec": {
   "display_name": "Python 3 (ipykernel)",
   "language": "python",
   "name": "python3"
  },
  "language_info": {
   "codemirror_mode": {
    "name": "ipython",
    "version": 3
   },
   "file_extension": ".py",
   "mimetype": "text/x-python",
   "name": "python",
   "nbconvert_exporter": "python",
   "pygments_lexer": "ipython3",
   "version": "3.10.9"
  }
 },
 "nbformat": 4,
 "nbformat_minor": 5
}
